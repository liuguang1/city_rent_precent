{
 "cells": [
  {
   "cell_type": "code",
   "execution_count": 1,
   "metadata": {},
   "outputs": [],
   "source": [
    "import pandas as pd\n",
    "import numpy as np\n",
    "import lightgbm as lgb\n",
    "import matplotlib.pyplot as plt\n",
    "import seaborn as sns\n",
    "from sklearn.preprocessing import LabelEncoder\n",
    "from sklearn.model_selection import KFold\n",
    "from sklearn.metrics import r2_score\n",
    "sns.set(context=\"notebook\", style=\"darkgrid\")\n",
    "%matplotlib inline\n",
    "import warnings\n",
    "warnings.filterwarnings('ignore')"
   ]
  },
  {
   "cell_type": "code",
   "execution_count": 2,
   "metadata": {},
   "outputs": [],
   "source": [
    "train=pd.read_csv(\"G:/compete/ai/city_rent_precent/data_set/train_data.csv\")\n",
    "test=pd.read_csv(\"G:/compete/ai/city_rent_precent/data_set/test_a.csv\")"
   ]
  },
  {
   "cell_type": "code",
   "execution_count": 3,
   "metadata": {},
   "outputs": [],
   "source": [
    "train = train.drop([\"ID\",\"city\"],axis = 1)\n",
    "test= test.drop([\"ID\",\"city\"],axis = 1)\n"
   ]
  },
  {
   "cell_type": "code",
   "execution_count": 4,
   "metadata": {},
   "outputs": [],
   "source": [
    "for df in [train,test]:\n",
    "    df['rentType'][df['rentType']=='--']='未知方式'\n",
    "    #转换object数据类型\n",
    "    columns=['rentType', 'houseFloor', 'houseToward', 'houseDecoration', 'communityName', 'region', 'plate']\n",
    "    for col in columns:\n",
    "        df[col]=df[col].astype('category')\n",
    "        "
   ]
  },
  {
   "cell_type": "code",
   "execution_count": 5,
   "metadata": {},
   "outputs": [],
   "source": [
    "for df in [train,test]:\n",
    "    #将bulidyear列转换为整型数据\n",
    "    tmp = df['buildYear'].copy()\n",
    "    tmp2 = tmp[tmp!='暂无信息'].astype('int')\n",
    "    tmp[tmp=='暂无信息'] = tmp2.mode().iloc[0]\n",
    "    df['buildYear'] = tmp\n",
    "    df['buildYear'] = df['buildYear'].astype('int')\n",
    "    #处理pv/uv的空值\n",
    "    df['pv'].fillna(df['pv'].mean(),inplace=True)\n",
    "    df['uv'].fillna(df['uv'].mean(),inplace=True)\n",
    "    df['pv'] = df['pv'].astype('int')\n",
    "    df['uv'] = df['uv'].astype('int')\n",
    "    "
   ]
  },
  {
   "cell_type": "code",
   "execution_count": 6,
   "metadata": {},
   "outputs": [],
   "source": [
    "for df in [train,test]:\n",
    "    # 将houseType转化为‘房间数’，‘厅数’，‘卫生间数’\n",
    "    def parseRoom(info, index):\n",
    "        res = int(info[index*2])\n",
    "        return res\n",
    "    df.insert(3,'室',None)\n",
    "    df.insert(4, '厅', None)\n",
    "    df.insert(5, '卫', None)\n",
    "    df['室'] = df['houseType'].apply(parseRoom, index=0)\n",
    "    df['厅'] = df['houseType'].apply(parseRoom, index=1)\n",
    "    df['卫'] = df['houseType'].apply(parseRoom, index=2)\n",
    "    \n",
    "    df['交易月份'] = df['tradeTime'].apply(lambda x: int(x.split('/')[1]))\n",
    "#     df['pv/uv'] = df['pv'] / df['uv']\n",
    "#     df['房间总数'] = df['室'] + df['厅'] + df['卫']\n",
    "    \n",
    "    df.drop('houseType', axis=1, inplace=True)\n",
    "    df.drop('tradeTime', axis=1, inplace=True)\n",
    "    \n",
    "    "
   ]
  },
  {
   "cell_type": "markdown",
   "metadata": {},
   "source": [
    "# 简单数据清洗"
   ]
  },
  {
   "cell_type": "code",
   "execution_count": 7,
   "metadata": {},
   "outputs": [],
   "source": [
    "train = train[train['area']<=700]\n",
    "train = train[train['tradeMoney']<=100000]"
   ]
  },
  {
   "cell_type": "markdown",
   "metadata": {},
   "source": [
    "# new1 删除离群点"
   ]
  },
  {
   "cell_type": "code",
   "execution_count": 8,
   "metadata": {},
   "outputs": [],
   "source": [
    "train = train[train[\"area\"]<400]\n",
    "train = train[(train[\"area\"]<400)&(train[\"tradeMoney\"]<60000)]\n",
    "train = train.drop(train[(train['area']<130)&(train[\"tradeMoney\"]>40000)].index)\n",
    "train = train.drop(train[(train['area']>350)&(train[\"tradeMoney\"]<5000)].index)\n",
    "train = train.drop(train[train[\"tradeMoney\"]<1].index)\n",
    "train= train.drop(train[train[\"area\"]<10].index)"
   ]
  },
  {
   "cell_type": "markdown",
   "metadata": {},
   "source": [
    "# new2 删除test中没有的值"
   ]
  },
  {
   "cell_type": "code",
   "execution_count": 9,
   "metadata": {},
   "outputs": [],
   "source": [
    "train = train.drop(train[train['室']==0].index)\n",
    "train = train.drop(train[train['室']==7].index)\n",
    "train = train.drop(train[train['室']==8].index)\n",
    "train = train.drop(train[train['室']==9].index)\n",
    "\n",
    "train = train.drop(train[train['厅']==4].index)\n",
    "train = train.drop(train[train['厅']==5].index)\n",
    "\n",
    "train = train.drop(train[train['卫']==8].index)\n",
    "train = train.drop(train[train['卫']==7].index)\n",
    "train = train.drop(train[train['卫']==5].index)"
   ]
  },
  {
   "cell_type": "markdown",
   "metadata": {},
   "source": [
    "# new3 删除test中没有的值"
   ]
  },
  {
   "cell_type": "code",
   "execution_count": 10,
   "metadata": {},
   "outputs": [],
   "source": [
    "train = train.drop(train[train['region']==\"RG00015\"].index)"
   ]
  },
  {
   "cell_type": "markdown",
   "metadata": {},
   "source": [
    "# new4 删除test中没有的值"
   ]
  },
  {
   "cell_type": "code",
   "execution_count": 11,
   "metadata": {},
   "outputs": [],
   "source": [
    "trian = train.drop(train[(train[\"plate\"] == \"BK00058\")|(train[\"plate\"] == \"BK00032\")].index)"
   ]
  },
  {
   "cell_type": "markdown",
   "metadata": {},
   "source": [
    "# 特征工程\n"
   ]
  },
  {
   "cell_type": "code",
   "execution_count": 12,
   "metadata": {},
   "outputs": [
    {
     "data": {
      "text/html": [
       "<div>\n",
       "<style scoped>\n",
       "    .dataframe tbody tr th:only-of-type {\n",
       "        vertical-align: middle;\n",
       "    }\n",
       "\n",
       "    .dataframe tbody tr th {\n",
       "        vertical-align: top;\n",
       "    }\n",
       "\n",
       "    .dataframe thead th {\n",
       "        text-align: right;\n",
       "    }\n",
       "</style>\n",
       "<table border=\"1\" class=\"dataframe\">\n",
       "  <thead>\n",
       "    <tr style=\"text-align: right;\">\n",
       "      <th></th>\n",
       "      <th>area</th>\n",
       "      <th>rentType</th>\n",
       "      <th>室</th>\n",
       "      <th>厅</th>\n",
       "      <th>卫</th>\n",
       "      <th>houseFloor</th>\n",
       "      <th>totalFloor</th>\n",
       "      <th>houseToward</th>\n",
       "      <th>houseDecoration</th>\n",
       "      <th>communityName</th>\n",
       "      <th>...</th>\n",
       "      <th>landTotalPrice</th>\n",
       "      <th>landMeanPrice</th>\n",
       "      <th>totalWorkers</th>\n",
       "      <th>newWorkers</th>\n",
       "      <th>residentPopulation</th>\n",
       "      <th>pv</th>\n",
       "      <th>uv</th>\n",
       "      <th>lookNum</th>\n",
       "      <th>tradeMoney</th>\n",
       "      <th>交易月份</th>\n",
       "    </tr>\n",
       "  </thead>\n",
       "  <tbody>\n",
       "    <tr>\n",
       "      <th>0</th>\n",
       "      <td>68.06</td>\n",
       "      <td>未知方式</td>\n",
       "      <td>2</td>\n",
       "      <td>1</td>\n",
       "      <td>1</td>\n",
       "      <td>低</td>\n",
       "      <td>16</td>\n",
       "      <td>暂无数据</td>\n",
       "      <td>其他</td>\n",
       "      <td>XQ00051</td>\n",
       "      <td>...</td>\n",
       "      <td>0</td>\n",
       "      <td>0.0000</td>\n",
       "      <td>28248</td>\n",
       "      <td>614</td>\n",
       "      <td>111546</td>\n",
       "      <td>1124</td>\n",
       "      <td>284</td>\n",
       "      <td>0</td>\n",
       "      <td>2000.0</td>\n",
       "      <td>11</td>\n",
       "    </tr>\n",
       "    <tr>\n",
       "      <th>1</th>\n",
       "      <td>125.55</td>\n",
       "      <td>未知方式</td>\n",
       "      <td>3</td>\n",
       "      <td>2</td>\n",
       "      <td>2</td>\n",
       "      <td>中</td>\n",
       "      <td>14</td>\n",
       "      <td>暂无数据</td>\n",
       "      <td>简装</td>\n",
       "      <td>XQ00130</td>\n",
       "      <td>...</td>\n",
       "      <td>0</td>\n",
       "      <td>0.0000</td>\n",
       "      <td>14823</td>\n",
       "      <td>148</td>\n",
       "      <td>157552</td>\n",
       "      <td>701</td>\n",
       "      <td>22</td>\n",
       "      <td>1</td>\n",
       "      <td>2000.0</td>\n",
       "      <td>12</td>\n",
       "    </tr>\n",
       "    <tr>\n",
       "      <th>2</th>\n",
       "      <td>132.00</td>\n",
       "      <td>未知方式</td>\n",
       "      <td>3</td>\n",
       "      <td>2</td>\n",
       "      <td>2</td>\n",
       "      <td>低</td>\n",
       "      <td>32</td>\n",
       "      <td>暂无数据</td>\n",
       "      <td>其他</td>\n",
       "      <td>XQ00179</td>\n",
       "      <td>...</td>\n",
       "      <td>0</td>\n",
       "      <td>0.0000</td>\n",
       "      <td>77645</td>\n",
       "      <td>520</td>\n",
       "      <td>131744</td>\n",
       "      <td>57</td>\n",
       "      <td>20</td>\n",
       "      <td>1</td>\n",
       "      <td>16000.0</td>\n",
       "      <td>12</td>\n",
       "    </tr>\n",
       "    <tr>\n",
       "      <th>3</th>\n",
       "      <td>57.00</td>\n",
       "      <td>未知方式</td>\n",
       "      <td>1</td>\n",
       "      <td>1</td>\n",
       "      <td>1</td>\n",
       "      <td>中</td>\n",
       "      <td>17</td>\n",
       "      <td>暂无数据</td>\n",
       "      <td>精装</td>\n",
       "      <td>XQ00313</td>\n",
       "      <td>...</td>\n",
       "      <td>332760000</td>\n",
       "      <td>3080.0331</td>\n",
       "      <td>8750</td>\n",
       "      <td>1665</td>\n",
       "      <td>253337</td>\n",
       "      <td>888</td>\n",
       "      <td>279</td>\n",
       "      <td>9</td>\n",
       "      <td>1600.0</td>\n",
       "      <td>12</td>\n",
       "    </tr>\n",
       "    <tr>\n",
       "      <th>4</th>\n",
       "      <td>129.00</td>\n",
       "      <td>未知方式</td>\n",
       "      <td>3</td>\n",
       "      <td>2</td>\n",
       "      <td>3</td>\n",
       "      <td>低</td>\n",
       "      <td>2</td>\n",
       "      <td>暂无数据</td>\n",
       "      <td>毛坯</td>\n",
       "      <td>XQ01257</td>\n",
       "      <td>...</td>\n",
       "      <td>0</td>\n",
       "      <td>0.0000</td>\n",
       "      <td>800</td>\n",
       "      <td>117</td>\n",
       "      <td>125309</td>\n",
       "      <td>2038</td>\n",
       "      <td>480</td>\n",
       "      <td>0</td>\n",
       "      <td>2900.0</td>\n",
       "      <td>11</td>\n",
       "    </tr>\n",
       "  </tbody>\n",
       "</table>\n",
       "<p>5 rows × 51 columns</p>\n",
       "</div>"
      ],
      "text/plain": [
       "     area rentType  室  厅  卫 houseFloor  totalFloor houseToward  \\\n",
       "0   68.06     未知方式  2  1  1          低          16        暂无数据   \n",
       "1  125.55     未知方式  3  2  2          中          14        暂无数据   \n",
       "2  132.00     未知方式  3  2  2          低          32        暂无数据   \n",
       "3   57.00     未知方式  1  1  1          中          17        暂无数据   \n",
       "4  129.00     未知方式  3  2  3          低           2        暂无数据   \n",
       "\n",
       "  houseDecoration communityName  ...  landTotalPrice landMeanPrice  \\\n",
       "0              其他       XQ00051  ...               0        0.0000   \n",
       "1              简装       XQ00130  ...               0        0.0000   \n",
       "2              其他       XQ00179  ...               0        0.0000   \n",
       "3              精装       XQ00313  ...       332760000     3080.0331   \n",
       "4              毛坯       XQ01257  ...               0        0.0000   \n",
       "\n",
       "   totalWorkers  newWorkers  residentPopulation    pv   uv  lookNum  \\\n",
       "0         28248         614              111546  1124  284        0   \n",
       "1         14823         148              157552   701   22        1   \n",
       "2         77645         520              131744    57   20        1   \n",
       "3          8750        1665              253337   888  279        9   \n",
       "4           800         117              125309  2038  480        0   \n",
       "\n",
       "   tradeMoney  交易月份  \n",
       "0      2000.0    11  \n",
       "1      2000.0    12  \n",
       "2     16000.0    12  \n",
       "3      1600.0    12  \n",
       "4      2900.0    11  \n",
       "\n",
       "[5 rows x 51 columns]"
      ]
     },
     "execution_count": 12,
     "metadata": {},
     "output_type": "execute_result"
    }
   ],
   "source": [
    "trian.head()"
   ]
  },
  {
   "cell_type": "code",
   "execution_count": 13,
   "metadata": {},
   "outputs": [],
   "source": [
    "train[\"HomeNum\"] = train[\"室\"] + train[\"卫\"] + train[\"厅\"]"
   ]
  },
  {
   "cell_type": "code",
   "execution_count": 14,
   "metadata": {},
   "outputs": [
    {
     "data": {
      "text/plain": [
       "0    4\n",
       "1    7\n",
       "2    7\n",
       "3    3\n",
       "4    8\n",
       "Name: HomeNum, dtype: int64"
      ]
     },
     "execution_count": 14,
     "metadata": {},
     "output_type": "execute_result"
    }
   ],
   "source": [
    "train['HomeNum'].head()"
   ]
  },
  {
   "cell_type": "code",
   "execution_count": 15,
   "metadata": {},
   "outputs": [
    {
     "data": {
      "text/plain": [
       "0"
      ]
     },
     "execution_count": 15,
     "metadata": {},
     "output_type": "execute_result"
    }
   ],
   "source": [
    "\n",
    "train[\"室\"].isnull().sum()"
   ]
  },
  {
   "cell_type": "markdown",
   "metadata": {},
   "source": [
    "## 成交均价"
   ]
  },
  {
   "cell_type": "code",
   "execution_count": 16,
   "metadata": {},
   "outputs": [],
   "source": [
    "trian[\"tradeMean\"] = train[\"totalTradeMoney\"]/train[\"totalTradeArea\"]\n",
    "trian[\"tradeNewMean\"] = train[\"totalNewTradeMoney\"]/train[\"totalNewTradeArea\"]\n",
    "trian[\"landMean\"] = train[\"landTotalPrice\"]/train[\"tradeLandArea\"]"
   ]
  },
  {
   "cell_type": "markdown",
   "metadata": {},
   "source": [
    "## 总数量"
   ]
  },
  {
   "cell_type": "code",
   "execution_count": 17,
   "metadata": {},
   "outputs": [],
   "source": [
    "trian[\"bus\"] = train[\"subwayStationNum\"] + train[\"busStationNum\"]\n",
    "train[\"school\"]  = train[\"interSchoolNum\"]+train[\"schoolNum\"]+train[\"privateSchoolNum\"]\n",
    "trian[\"docter\"] = train[\"hospitalNum\"] + train[\"drugStoreNum\"]\n",
    "trian[\"shop\"] = train[\"shopNum\"] + train[\"superMarketNum\"]+ train[\"mallNum\"]\n",
    "trian[\"sport\"] = train[\"gymNum\"] + train[\"parkNum\"]"
   ]
  },
  {
   "cell_type": "code",
   "execution_count": 18,
   "metadata": {},
   "outputs": [],
   "source": [
    "test[\"HomeNum\"] = test[\"室\"] + test[\"卫\"] + test[\"厅\"]\n",
    "test[\"tradeMean\"] = test[\"totalTradeMoney\"]/test[\"totalTradeArea\"]\n",
    "test[\"tradeNewMean\"] = test[\"totalNewTradeMoney\"]/test[\"totalNewTradeArea\"]\n",
    "test[\"landMean\"] = test[\"landTotalPrice\"]/test[\"tradeLandArea\"]\n",
    "test[\"bus\"] = test[\"subwayStationNum\"] + test[\"busStationNum\"]\n",
    "test[\"school\"]  = test[\"interSchoolNum\"]+test[\"schoolNum\"]+test[\"privateSchoolNum\"]\n",
    "test[\"docter\"] = test[\"hospitalNum\"] + test[\"drugStoreNum\"]\n",
    "test[\"shop\"] = test[\"shopNum\"] + test[\"superMarketNum\"]+ test[\"mallNum\"]\n",
    "test[\"sport\"] = test[\"gymNum\"] + test[\"parkNum\"]"
   ]
  },
  {
   "cell_type": "code",
   "execution_count": 19,
   "metadata": {},
   "outputs": [
    {
     "data": {
      "text/plain": [
       "(40142, 53)"
      ]
     },
     "execution_count": 19,
     "metadata": {},
     "output_type": "execute_result"
    }
   ],
   "source": [
    "train.shape"
   ]
  },
  {
   "cell_type": "code",
   "execution_count": 20,
   "metadata": {},
   "outputs": [],
   "source": [
    "columns = ['rentType', 'houseFloor', 'houseToward', 'houseDecoration', 'region', 'plate']\n",
    "for col in columns:\n",
    "    train[col] = train[col].astype('category')\n",
    "    test[col] = test[col].astype('category')"
   ]
  },
  {
   "cell_type": "code",
   "execution_count": 21,
   "metadata": {},
   "outputs": [
    {
     "name": "stdout",
     "output_type": "stream",
     "text": [
      "rentType\n",
      "houseFloor\n",
      "houseToward\n",
      "houseDecoration\n",
      "communityName\n",
      "region\n",
      "plate\n"
     ]
    }
   ],
   "source": [
    "for col in train.columns:\n",
    "    if train[col].dtype.name == \"category\":\n",
    "        print(col)"
   ]
  },
  {
   "cell_type": "markdown",
   "metadata": {},
   "source": [
    "# 特征选择"
   ]
  },
  {
   "cell_type": "markdown",
   "metadata": {},
   "source": [
    "## Filter（过滤法）"
   ]
  },
  {
   "cell_type": "markdown",
   "metadata": {},
   "source": [
    "### 这类方法先对数据机进行特征选择，然后再训练学习器，特征选择的过程与后续学习器无关。"
   ]
  },
  {
   "cell_type": "markdown",
   "metadata": {},
   "source": [
    "- Chi-squared test（卡方检验）\n",
    "- 值越大，越相关，设置阈值保留相关特征\n",
    "- 只适用于分类问题中离散型特征筛选，不能用于分类问题中连续型特征的筛选，也不能用于回归问题的特征筛选\n",
    "- 特征不能是字符型\n",
    "- 特征值不能太大\n",
    "- 索引找到列名"
   ]
  },
  {
   "cell_type": "code",
   "execution_count": 22,
   "metadata": {},
   "outputs": [],
   "source": [
    "\n",
    "from sklearn.feature_selection import SelectKBest,SelectPercentile\n",
    "from sklearn.feature_selection import chi2"
   ]
  },
  {
   "cell_type": "code",
   "execution_count": 23,
   "metadata": {},
   "outputs": [],
   "source": [
    "X = train.drop([\"tradeMoney\"],axis=1)\n",
    "y = train[\"tradeMoney\"]"
   ]
  },
  {
   "cell_type": "code",
   "execution_count": 24,
   "metadata": {},
   "outputs": [],
   "source": [
    "# 去掉字符型特征\n",
    "for col in X.columns:\n",
    "    if X[col].dtype.name == \"category\":\n",
    "        X = X.drop([col],axis=1)"
   ]
  },
  {
   "cell_type": "code",
   "execution_count": 25,
   "metadata": {},
   "outputs": [],
   "source": [
    "X_new = SelectKBest(chi2, k=43).fit(X, y).get_support(indices = True)"
   ]
  },
  {
   "cell_type": "markdown",
   "metadata": {},
   "source": [
    "# Wrapper（封装法）"
   ]
  },
  {
   "cell_type": "markdown",
   "metadata": {},
   "source": [
    "## 直接把最后要使用的分类器作为特征选择的评价函数，对于特定的分类器选择最优的特征子集。\n",
    "- 递归特征消除（Recursive feature elimination，RFE）\n",
    "- 不能有字符串类型"
   ]
  },
  {
   "cell_type": "code",
   "execution_count": 26,
   "metadata": {},
   "outputs": [],
   "source": [
    "from sklearn.feature_selection import RFE\n",
    "from sklearn.linear_model import LinearRegression\n",
    "lr = LinearRegression()"
   ]
  },
  {
   "cell_type": "code",
   "execution_count": 27,
   "metadata": {},
   "outputs": [],
   "source": [
    "rfe = RFE(lr, n_features_to_select=40)"
   ]
  },
  {
   "cell_type": "code",
   "execution_count": 28,
   "metadata": {},
   "outputs": [],
   "source": [
    "\n",
    "X = train.drop([\"tradeMoney\"],axis=1)\n",
    "y = train[\"tradeMoney\"]"
   ]
  },
  {
   "cell_type": "code",
   "execution_count": 29,
   "metadata": {},
   "outputs": [],
   "source": [
    "# 去掉字符型特征\n",
    "for col in X.columns:\n",
    "    if X[col].dtype.name == \"category\":\n",
    "        X = X.drop([col],axis=1)\n",
    "X_columns = X.columns"
   ]
  },
  {
   "cell_type": "code",
   "execution_count": 30,
   "metadata": {},
   "outputs": [
    {
     "data": {
      "text/plain": [
       "RFE(estimator=LinearRegression(copy_X=True, fit_intercept=True, n_jobs=None,\n",
       "         normalize=False),\n",
       "  n_features_to_select=40, step=1, verbose=0)"
      ]
     },
     "execution_count": 30,
     "metadata": {},
     "output_type": "execute_result"
    }
   ],
   "source": [
    "rfe.fit(X,y)"
   ]
  },
  {
   "cell_type": "code",
   "execution_count": 31,
   "metadata": {},
   "outputs": [
    {
     "name": "stdout",
     "output_type": "stream",
     "text": [
      "Features sorted by their rank:\n",
      "[(1, 'HomeNum'), (1, 'area'), (1, 'bankNum'), (1, 'buildYear'), (1, 'busStationNum'), (1, 'drugStoreNum'), (1, 'gymNum'), (1, 'hospitalNum'), (1, 'interSchoolNum'), (1, 'landMeanPrice'), (1, 'lookNum'), (1, 'mallNum'), (1, 'newWorkers'), (1, 'parkNum'), (1, 'privateSchoolNum'), (1, 'remainNewNum'), (1, 'residentPopulation'), (1, 'saleSecHouseNum'), (1, 'school'), (1, 'schoolNum'), (1, 'shopNum'), (1, 'subwayStationNum'), (1, 'superMarketNum'), (1, 'supplyLandArea'), (1, 'supplyLandNum'), (1, 'supplyNewNum'), (1, 'totalFloor'), (1, 'totalNewTradeArea'), (1, 'totalTradeArea'), (1, 'totalWorkers'), (1, 'tradeLandNum'), (1, 'tradeMeanPrice'), (1, 'tradeNewMeanPrice'), (1, 'tradeNewNum'), (1, 'tradeSecNum'), (1, 'uv'), (1, '交易月份'), (1, '卫'), (1, '厅'), (1, '室'), (2, 'tradeLandArea'), (3, 'pv'), (4, 'totalTradeMoney'), (5, 'totalNewTradeMoney'), (6, 'landTotalPrice')]\n"
     ]
    }
   ],
   "source": [
    "print(\"Features sorted by their rank:\")\n",
    "print(sorted(zip(map(lambda x: round(x, 4), rfe.ranking_), X.columns)))"
   ]
  },
  {
   "cell_type": "code",
   "execution_count": 32,
   "metadata": {},
   "outputs": [
    {
     "data": {
      "text/plain": [
       "(array([1, 1, 1, 1, 1, 1, 1, 1, 1, 1, 1, 1, 1, 1, 1, 1, 1, 1, 1, 1, 4, 1,\n",
       "        1, 1, 5, 1, 1, 1, 1, 1, 1, 1, 1, 2, 6, 1, 1, 1, 1, 3, 1, 1, 1, 1,\n",
       "        1]), 40)"
      ]
     },
     "execution_count": 32,
     "metadata": {},
     "output_type": "execute_result"
    }
   ],
   "source": [
    "rfe.ranking_,rfe.n_features_"
   ]
  },
  {
   "cell_type": "code",
   "execution_count": 33,
   "metadata": {},
   "outputs": [
    {
     "name": "stdout",
     "output_type": "stream",
     "text": [
      "[ True  True  True  True  True  True  True  True  True  True  True  True\n",
      "  True  True  True  True  True  True  True  True False  True  True  True\n",
      " False  True  True  True  True  True  True  True  True False False  True\n",
      "  True  True  True False  True  True  True  True  True]\n"
     ]
    }
   ],
   "source": [
    "print(rfe.support_)"
   ]
  },
  {
   "cell_type": "code",
   "execution_count": 34,
   "metadata": {},
   "outputs": [],
   "source": [
    "sel_features = [f for f, s in zip(X_columns, rfe.support_) if s]"
   ]
  },
  {
   "cell_type": "code",
   "execution_count": 35,
   "metadata": {},
   "outputs": [],
   "source": [
    "train1 = train[sel_features]\n",
    "test1 = test[sel_features]"
   ]
  },
  {
   "cell_type": "code",
   "execution_count": 36,
   "metadata": {},
   "outputs": [],
   "source": [
    "categorical_feats = ['rentType', 'houseFloor', 'houseToward', 'houseDecoration', 'region', 'plate']"
   ]
  },
  {
   "cell_type": "code",
   "execution_count": 37,
   "metadata": {},
   "outputs": [],
   "source": [
    "for col in categorical_feats:\n",
    "    train2 = pd.concat([train[col],train1],axis = 1)\n",
    "    test2 = pd.concat([test[col],test1],axis = 1)"
   ]
  },
  {
   "cell_type": "markdown",
   "metadata": {},
   "source": [
    "# Embedded(嵌入法）\n"
   ]
  },
  {
   "cell_type": "markdown",
   "metadata": {},
   "source": [
    "## 固定模型，挑选出对模型训练有重要意义的特征\n",
    "- 基于惩罚项的特征选择法\n",
    "- Lasso(l1)和Ridge(l2)"
   ]
  },
  {
   "cell_type": "code",
   "execution_count": 38,
   "metadata": {},
   "outputs": [
    {
     "data": {
      "text/plain": [
       "Ridge(alpha=5, copy_X=True, fit_intercept=True, max_iter=None,\n",
       "   normalize=False, random_state=None, solver='auto', tol=0.001)"
      ]
     },
     "execution_count": 38,
     "metadata": {},
     "output_type": "execute_result"
    }
   ],
   "source": [
    "from sklearn.linear_model import Ridge\n",
    "X = train.drop([\"tradeMoney\"],axis=1)\n",
    "y = train[\"tradeMoney\"]\n",
    "for col in X.columns:\n",
    "    if X[col].dtype.name == \"category\":\n",
    "        X = X.drop([col],axis=1)\n",
    "X_columns = X.columns\n",
    "ridge = Ridge(alpha=5)\n",
    "ridge.fit(X,y)"
   ]
  },
  {
   "cell_type": "code",
   "execution_count": 39,
   "metadata": {},
   "outputs": [],
   "source": [
    "coefSort = ridge.coef_.argsort()"
   ]
  },
  {
   "cell_type": "code",
   "execution_count": 40,
   "metadata": {},
   "outputs": [
    {
     "data": {
      "text/plain": [
       "array([ 2,  1, 32, 11, 17, 13, 10,  5, 16,  6, 41,  8, 23, 28, 40, 25, 21,\n",
       "       37, 36, 31, 34, 24, 20, 38, 35, 39, 33, 26, 22, 29, 27, 15, 19, 42,\n",
       "       44, 14,  0,  7,  4,  9, 30, 12, 18, 43,  3], dtype=int64)"
      ]
     },
     "execution_count": 40,
     "metadata": {},
     "output_type": "execute_result"
    }
   ],
   "source": [
    "coefSort"
   ]
  },
  {
   "cell_type": "code",
   "execution_count": 41,
   "metadata": {},
   "outputs": [
    {
     "data": {
      "text/plain": [
       "array([-4.38301292e+02, -1.69254244e+02, -1.63740141e+02, -5.87931402e+01,\n",
       "       -3.71155602e+01, -2.62890837e+01, -1.69722257e+01, -8.02956563e+00,\n",
       "       -5.94038370e+00, -5.93989474e+00, -4.79050535e+00, -4.33285297e+00,\n",
       "       -1.36989383e+00, -1.62312942e-01, -6.76635064e-02, -4.74675081e-02,\n",
       "       -1.37987101e-02, -4.45986872e-03, -2.12023321e-03, -1.22916146e-03,\n",
       "       -1.15667229e-07,  5.86155038e-07,  9.75775044e-07,  3.93635622e-04,\n",
       "        1.49620901e-03,  2.38266754e-03,  2.67458704e-03,  3.11321364e-03,\n",
       "        2.93132690e-02,  4.76457160e-02,  1.08160245e+00,  2.79345587e+00,\n",
       "        9.84138723e+00,  1.20649950e+01,  2.03858963e+01,  4.27162016e+01,\n",
       "        5.28124809e+01,  5.53884022e+01,  8.45240152e+01,  9.61512619e+01,\n",
       "        1.10290792e+02,  1.49584651e+02,  1.92802415e+02,  2.54093725e+02,\n",
       "        8.61649262e+02])"
      ]
     },
     "execution_count": 41,
     "metadata": {},
     "output_type": "execute_result"
    }
   ],
   "source": [
    "featureCoefSore=ridge.coef_[coefSort]\n",
    "\n",
    "featureCoefSore"
   ]
  },
  {
   "cell_type": "code",
   "execution_count": 42,
   "metadata": {},
   "outputs": [
    {
     "data": {
      "text/plain": [
       "Index(['厅', '室', 'tradeLandNum', 'privateSchoolNum', 'parkNum', 'drugStoreNum',\n",
       "       'schoolNum', 'buildYear', 'shopNum', 'saleSecHouseNum', 'lookNum',\n",
       "       'busStationNum', 'tradeSecNum', 'remainNewNum', 'uv',\n",
       "       'totalNewTradeArea', 'totalTradeArea', 'newWorkers', 'totalWorkers',\n",
       "       'supplyLandArea', 'landTotalPrice', 'totalNewTradeMoney',\n",
       "       'totalTradeMoney', 'residentPopulation', 'landMeanPrice', 'pv',\n",
       "       'tradeLandArea', 'tradeNewMeanPrice', 'tradeMeanPrice', 'supplyNewNum',\n",
       "       'tradeNewNum', 'bankNum', 'superMarketNum', '交易月份', 'school', 'gymNum',\n",
       "       'area', 'subwayStationNum', 'totalFloor', 'interSchoolNum',\n",
       "       'supplyLandNum', 'hospitalNum', 'mallNum', 'HomeNum', '卫'],\n",
       "      dtype='object')"
      ]
     },
     "execution_count": 42,
     "metadata": {},
     "output_type": "execute_result"
    }
   ],
   "source": [
    "\n",
    "X_columns[coefSort]   # 从小到达排序的特征"
   ]
  },
  {
   "cell_type": "code",
   "execution_count": 43,
   "metadata": {},
   "outputs": [],
   "source": [
    "sel_features = [f for f, s in zip(X_columns, featureCoefSore) if abs(s)> 2 ] # 选择绝对值大于二的特征\n",
    "train3 = train[sel_features]\n",
    "test3 = test[sel_features]"
   ]
  },
  {
   "cell_type": "code",
   "execution_count": 44,
   "metadata": {},
   "outputs": [],
   "source": [
    "\n",
    "for col in categorical_feats:\n",
    "    train3 = pd.concat([train[col],train3],axis = 1)\n",
    "    test3 = pd.concat([test[col],test3],axis = 1)"
   ]
  },
  {
   "cell_type": "markdown",
   "metadata": {},
   "source": [
    " - 基于树模型的特征选择法\n",
    "- 随机森林 平均不纯度减少（mean decrease impurity"
   ]
  },
  {
   "cell_type": "code",
   "execution_count": 45,
   "metadata": {},
   "outputs": [],
   "source": [
    "X = train.drop([\"tradeMoney\"],axis=1)\n",
    "y = train[\"tradeMoney\"]\n",
    "for col in X.columns:\n",
    "    if X[col].dtype.name == \"category\":\n",
    "        X = X.drop([col],axis=1)\n",
    "X_columns = X.columns"
   ]
  },
  {
   "cell_type": "code",
   "execution_count": 46,
   "metadata": {},
   "outputs": [
    {
     "name": "stdout",
     "output_type": "stream",
     "text": [
      "Features sorted by their score:\n",
      "[(0.5342, 'area'), (0.1898, 'tradeMeanPrice'), (0.0356, 'totalFloor'), (0.0311, 'busStationNum'), (0.0304, 'tradeNewMeanPrice'), (0.0303, 'buildYear'), (0.0122, 'HomeNum'), (0.011, 'gymNum'), (0.0091, 'totalWorkers'), (0.0087, '厅'), (0.0087, 'bankNum'), (0.0072, 'remainNewNum'), (0.007, 'interSchoolNum'), (0.0058, 'privateSchoolNum'), (0.0054, 'totalTradeMoney'), (0.0051, 'totalTradeArea'), (0.0048, '室'), (0.0048, 'tradeSecNum'), (0.0047, '交易月份'), (0.0045, '卫'), (0.0043, 'pv'), (0.0039, 'uv'), (0.0039, 'residentPopulation'), (0.0036, 'parkNum'), (0.0035, 'saleSecHouseNum'), (0.0034, 'totalNewTradeMoney'), (0.0034, 'totalNewTradeArea'), (0.0032, 'mallNum'), (0.0031, 'superMarketNum'), (0.0024, 'tradeNewNum'), (0.0024, 'shopNum'), (0.0021, 'newWorkers'), (0.0019, 'school'), (0.0017, 'subwayStationNum'), (0.0014, 'hospitalNum'), (0.0013, 'schoolNum'), (0.001, 'lookNum'), (0.001, 'drugStoreNum'), (0.0009, 'supplyNewNum'), (0.0003, 'supplyLandArea'), (0.0003, 'landMeanPrice'), (0.0002, 'supplyLandNum'), (0.0002, 'landTotalPrice'), (0.0001, 'tradeLandNum'), (0.0001, 'tradeLandArea')]\n"
     ]
    }
   ],
   "source": [
    "from sklearn.ensemble import RandomForestRegressor\n",
    "rf = RandomForestRegressor()\n",
    "# 训练随机森林模型，并通过feature_importances_属性获取每个特征的重要性分数。rf = RandomForestRegressor()\n",
    "rf.fit(X, y)\n",
    "print(\"Features sorted by their score:\")\n",
    "print(sorted(zip(map(lambda x: round(x, 4), rf.feature_importances_), X_columns),\n",
    "             reverse=True))"
   ]
  },
  {
   "cell_type": "code",
   "execution_count": 47,
   "metadata": {},
   "outputs": [],
   "source": [
    "sel_features = [f for f, s in zip(X_columns, rf.feature_importances_) if abs(s)> 0.001 ] # 选择绝对值大于二的特征\n",
    "\n",
    "train4 = train[sel_features]\n",
    "test4 = test[sel_features]\n",
    "for col in categorical_feats:\n",
    "    train4 = pd.concat([train[col],train4],axis = 1)\n",
    "    test4 = pd.concat([test[col],test4],axis = 1)"
   ]
  },
  {
   "cell_type": "markdown",
   "metadata": {},
   "source": [
    "- 平均精确度减少（mean decrease accuracy）????\n",
    "- 打乱每个特征的特征值顺序,重要特征影响大"
   ]
  },
  {
   "cell_type": "code",
   "execution_count": 48,
   "metadata": {},
   "outputs": [],
   "source": [
    "X = train.drop([\"tradeMoney\"],axis=1)\n",
    "Y = train[\"tradeMoney\"]\n",
    "for col in X.columns:\n",
    "    if X[col].dtype.name == \"category\":\n",
    "        X = X.drop([col],axis=1)\n",
    "X_columns = X.columns"
   ]
  },
  {
   "cell_type": "code",
   "execution_count": 49,
   "metadata": {},
   "outputs": [
    {
     "ename": "TypeError",
     "evalue": "'StratifiedShuffleSplit' object is not iterable",
     "output_type": "error",
     "traceback": [
      "\u001b[1;31m---------------------------------------------------------------------------\u001b[0m",
      "\u001b[1;31mTypeError\u001b[0m                                 Traceback (most recent call last)",
      "\u001b[1;32m<ipython-input-49-3b7727f05247>\u001b[0m in \u001b[0;36m<module>\u001b[1;34m\u001b[0m\n\u001b[0;32m     11\u001b[0m \u001b[1;33m\u001b[0m\u001b[0m\n\u001b[0;32m     12\u001b[0m \u001b[1;31m#crossvalidate the scores on a number of different random splits of the data\u001b[0m\u001b[1;33m\u001b[0m\u001b[1;33m\u001b[0m\u001b[1;33m\u001b[0m\u001b[0m\n\u001b[1;32m---> 13\u001b[1;33m \u001b[1;32mfor\u001b[0m \u001b[0mtrain_idx\u001b[0m\u001b[1;33m,\u001b[0m \u001b[0mtest_idx\u001b[0m \u001b[1;32min\u001b[0m \u001b[0mss\u001b[0m\u001b[1;33m:\u001b[0m\u001b[1;33m\u001b[0m\u001b[1;33m\u001b[0m\u001b[0m\n\u001b[0m\u001b[0;32m     14\u001b[0m     \u001b[0mX_train\u001b[0m\u001b[1;33m,\u001b[0m \u001b[0mX_test\u001b[0m \u001b[1;33m=\u001b[0m \u001b[0mX\u001b[0m\u001b[1;33m[\u001b[0m\u001b[0mtrain_idx\u001b[0m\u001b[1;33m]\u001b[0m\u001b[1;33m,\u001b[0m \u001b[0mX\u001b[0m\u001b[1;33m[\u001b[0m\u001b[0mtest_idx\u001b[0m\u001b[1;33m]\u001b[0m\u001b[1;33m\u001b[0m\u001b[1;33m\u001b[0m\u001b[0m\n\u001b[0;32m     15\u001b[0m     \u001b[0mY_train\u001b[0m\u001b[1;33m,\u001b[0m \u001b[0mY_test\u001b[0m \u001b[1;33m=\u001b[0m \u001b[0mY\u001b[0m\u001b[1;33m[\u001b[0m\u001b[0mtrain_idx\u001b[0m\u001b[1;33m]\u001b[0m\u001b[1;33m,\u001b[0m \u001b[0mY\u001b[0m\u001b[1;33m[\u001b[0m\u001b[0mtest_idx\u001b[0m\u001b[1;33m]\u001b[0m\u001b[1;33m\u001b[0m\u001b[1;33m\u001b[0m\u001b[0m\n",
      "\u001b[1;31mTypeError\u001b[0m: 'StratifiedShuffleSplit' object is not iterable"
     ]
    }
   ],
   "source": [
    "from sklearn.model_selection import StratifiedShuffleSplit\n",
    "\n",
    "from sklearn.metrics import r2_score\n",
    "from collections import defaultdict\n",
    "\n",
    "rf = RandomForestRegressor()\n",
    "scores = defaultdict(list)\n",
    "\n",
    "\n",
    "ss=StratifiedShuffleSplit(n_splits=5,test_size=0.25,train_size=0.75,random_state=0)\n",
    "\n",
    "#crossvalidate the scores on a number of different random splits of the data\n",
    "for train_idx, test_idx in ss:\n",
    "    X_train, X_test = X[train_idx], X[test_idx]\n",
    "    Y_train, Y_test = Y[train_idx], Y[test_idx]\n",
    "    # 使用修改前的原始特征训练模型，其acc作为后续混洗特征值后的对比标准。r = rf.fit(X_train, Y_train)\n",
    "    acc = r2_score(Y_test, rf.predict(X_test))\n",
    "    # 遍历每一列特征\n",
    "    for i in range(X.shape[1]):\n",
    "        X_t = X_test.copy()\n",
    "        # 对这一列特征进行混洗，交互了一列特征内部的值的顺序\n",
    "        np.random.shuffle(X_t[:, i])\n",
    "        shuff_acc = r2_score(Y_test, rf.predict(X_t))\n",
    "        # 混洗某个特征值后，计算平均精确度减少程度。scores[names[i]].append((acc-shuff_acc)/acc)\n",
    "print(\"Features sorted by their score:\")\n",
    "print(sorted([(round(np.mean(score), 4), feat) for feat, score in scores.items()], reverse=True))"
   ]
  },
  {
   "cell_type": "code",
   "execution_count": 50,
   "metadata": {},
   "outputs": [],
   "source": [
    "X = train.drop([\"tradeMoney\"],axis=1)\n",
    "Y = train[\"tradeMoney\"]\n",
    "for col in X.columns:\n",
    "    if X[col].dtype.name == \"category\":\n",
    "        X = X.drop([col],axis=1)\n",
    "X_columns = X.columns"
   ]
  },
  {
   "cell_type": "code",
   "execution_count": 51,
   "metadata": {},
   "outputs": [
    {
     "name": "stdout",
     "output_type": "stream",
     "text": [
      "[0.35074663 0.02863654 0.01546764 0.01136247 0.13102032 0.17109213\n",
      " 0.04594781 0.00188385 0.00301867 0.00169321 0.00218434 0.00206114\n",
      " 0.001946   0.00225897 0.00238007 0.0018788  0.00218806 0.00214295\n",
      " 0.00230527 0.00226835 0.01223752 0.01197903 0.0127518  0.01211763\n",
      " 0.00905312 0.00896493 0.00951614 0.00874973 0.01005827 0.00331097\n",
      " 0.00138822 0.00177159 0.00102445 0.0011214  0.00114721 0.00139317\n",
      " 0.00193534 0.00487644 0.00223805 0.01209941 0.01236304 0.02697524\n",
      " 0.01266995 0.03555391 0.00222023]\n"
     ]
    }
   ],
   "source": [
    "from sklearn import metrics\n",
    "from sklearn.ensemble import ExtraTreesClassifier\n",
    "model = ExtraTreesClassifier() # build extra tree model\n",
    "model.fit(X,Y)\n",
    "print(model.feature_importances_) #display importance of each variables"
   ]
  },
  {
   "cell_type": "code",
   "execution_count": 52,
   "metadata": {},
   "outputs": [],
   "source": [
    "sel_features = [f for f, s in zip(X_columns, model.feature_importances_) if abs(s)> 0.002 ] # 选择绝对值大于二的特征\n",
    "\n",
    "train5 = train[sel_features]\n",
    "test5 = test[sel_features]\n",
    "for col in categorical_feats:\n",
    "    train5 = pd.concat([train[col],train],axis = 1)\n",
    "    test5 = pd.concat([test[col],test],axis = 1)"
   ]
  },
  {
   "cell_type": "markdown",
   "metadata": {},
   "source": [
    "# 需要的数据\n",
    "- train\n",
    "- target\n",
    "- test\n",
    "- features\n",
    "- categorical_feats"
   ]
  },
  {
   "cell_type": "code",
   "execution_count": 53,
   "metadata": {},
   "outputs": [],
   "source": [
    "\n",
    "features = train.columns\n",
    "target = train[\"tradeMoney\"]"
   ]
  },
  {
   "cell_type": "code",
   "execution_count": 54,
   "metadata": {},
   "outputs": [],
   "source": [
    "params = {\n",
    "    'num_leaves': 31,\n",
    "    'min_data_in_leaf': 20,\n",
    "    'min_child_samples':20,\n",
    "    'objective': 'regression',\n",
    "    'learning_rate': 0.01,\n",
    "    \"boosting\": \"gbdt\",\n",
    "    \"feature_fraction\": 0.8,\n",
    "    \"bagging_freq\": 1,\n",
    "    \"bagging_fraction\": 0.85,\n",
    "    \"bagging_seed\": 23,\n",
    "    \"metric\": 'rmse',\n",
    "    \"lambda_l1\": 0.2,\n",
    "    \"nthread\": 4,\n",
    "}"
   ]
  },
  {
   "cell_type": "code",
   "execution_count": 55,
   "metadata": {},
   "outputs": [
    {
     "name": "stdout",
     "output_type": "stream",
     "text": [
      "fold 0\n",
      "Training until validation scores don't improve for 200 rounds.\n",
      "[500]\ttraining's rmse: 177.388\tvalid_1's rmse: 201.322\n",
      "[1000]\ttraining's rmse: 107.51\tvalid_1's rmse: 151.512\n",
      "[1500]\ttraining's rmse: 87.2385\tvalid_1's rmse: 138.434\n",
      "[2000]\ttraining's rmse: 75.4785\tvalid_1's rmse: 133.749\n",
      "[2500]\ttraining's rmse: 67.1982\tvalid_1's rmse: 131.114\n",
      "[3000]\ttraining's rmse: 60.5105\tvalid_1's rmse: 129.504\n",
      "[3500]\ttraining's rmse: 55.0544\tvalid_1's rmse: 128.475\n",
      "[4000]\ttraining's rmse: 50.3845\tvalid_1's rmse: 127.384\n",
      "[4500]\ttraining's rmse: 46.3412\tvalid_1's rmse: 126.724\n",
      "[5000]\ttraining's rmse: 42.6049\tvalid_1's rmse: 126.27\n",
      "Early stopping, best iteration is:\n",
      "[4865]\ttraining's rmse: 43.5841\tvalid_1's rmse: 126.211\n",
      "fold 1\n",
      "Training until validation scores don't improve for 200 rounds.\n",
      "[500]\ttraining's rmse: 180.562\tvalid_1's rmse: 194.42\n",
      "[1000]\ttraining's rmse: 110\tvalid_1's rmse: 134.823\n",
      "[1500]\ttraining's rmse: 89.2787\tvalid_1's rmse: 119.476\n",
      "[2000]\ttraining's rmse: 78.3347\tvalid_1's rmse: 113.561\n",
      "[2500]\ttraining's rmse: 70.6393\tvalid_1's rmse: 110.311\n",
      "[3000]\ttraining's rmse: 64.4778\tvalid_1's rmse: 108.355\n",
      "[3500]\ttraining's rmse: 59.4963\tvalid_1's rmse: 107.025\n",
      "[4000]\ttraining's rmse: 55.2094\tvalid_1's rmse: 105.752\n",
      "[4500]\ttraining's rmse: 51.2787\tvalid_1's rmse: 105.27\n",
      "[5000]\ttraining's rmse: 47.7713\tvalid_1's rmse: 104.694\n",
      "[5500]\ttraining's rmse: 44.8807\tvalid_1's rmse: 104.311\n",
      "Early stopping, best iteration is:\n",
      "[5533]\ttraining's rmse: 44.6773\tvalid_1's rmse: 104.199\n",
      "fold 2\n",
      "Training until validation scores don't improve for 200 rounds.\n",
      "[500]\ttraining's rmse: 185.916\tvalid_1's rmse: 247.133\n",
      "[1000]\ttraining's rmse: 119.944\tvalid_1's rmse: 204.068\n",
      "[1500]\ttraining's rmse: 99.727\tvalid_1's rmse: 194.142\n",
      "[2000]\ttraining's rmse: 88.0888\tvalid_1's rmse: 189.965\n",
      "[2500]\ttraining's rmse: 79.7421\tvalid_1's rmse: 186.892\n",
      "[3000]\ttraining's rmse: 73.0781\tvalid_1's rmse: 184.78\n",
      "[3500]\ttraining's rmse: 67.8435\tvalid_1's rmse: 182.924\n",
      "[4000]\ttraining's rmse: 63.2701\tvalid_1's rmse: 181.597\n",
      "[4500]\ttraining's rmse: 58.9939\tvalid_1's rmse: 180.614\n",
      "[5000]\ttraining's rmse: 55.1117\tvalid_1's rmse: 179.519\n",
      "[5500]\ttraining's rmse: 51.9529\tvalid_1's rmse: 178.202\n",
      "[6000]\ttraining's rmse: 49.1429\tvalid_1's rmse: 177.017\n",
      "[6500]\ttraining's rmse: 46.178\tvalid_1's rmse: 176.131\n",
      "[7000]\ttraining's rmse: 43.6289\tvalid_1's rmse: 175.34\n",
      "[7500]\ttraining's rmse: 41.5057\tvalid_1's rmse: 174.423\n",
      "[8000]\ttraining's rmse: 39.3407\tvalid_1's rmse: 173.719\n",
      "[8500]\ttraining's rmse: 37.1033\tvalid_1's rmse: 172.731\n",
      "[9000]\ttraining's rmse: 35.2021\tvalid_1's rmse: 171.967\n",
      "[9500]\ttraining's rmse: 33.6105\tvalid_1's rmse: 171.396\n",
      "[10000]\ttraining's rmse: 31.9063\tvalid_1's rmse: 170.573\n",
      "Did not meet early stopping. Best iteration is:\n",
      "[10000]\ttraining's rmse: 31.9063\tvalid_1's rmse: 170.573\n",
      "fold 3\n",
      "Training until validation scores don't improve for 200 rounds.\n",
      "[500]\ttraining's rmse: 187.31\tvalid_1's rmse: 212.201\n",
      "[1000]\ttraining's rmse: 120.251\tvalid_1's rmse: 141.795\n",
      "[1500]\ttraining's rmse: 99.5073\tvalid_1's rmse: 125.55\n",
      "[2000]\ttraining's rmse: 88.0847\tvalid_1's rmse: 119.947\n",
      "[2500]\ttraining's rmse: 79.6023\tvalid_1's rmse: 118.432\n",
      "[3000]\ttraining's rmse: 72.4177\tvalid_1's rmse: 117.154\n",
      "Early stopping, best iteration is:\n",
      "[3128]\ttraining's rmse: 70.6001\tvalid_1's rmse: 116.785\n",
      "fold 4\n",
      "Training until validation scores don't improve for 200 rounds.\n",
      "[500]\ttraining's rmse: 168.893\tvalid_1's rmse: 238.136\n",
      "[1000]\ttraining's rmse: 97.3981\tvalid_1's rmse: 195.935\n",
      "[1500]\ttraining's rmse: 76.5784\tvalid_1's rmse: 185.356\n",
      "[2000]\ttraining's rmse: 65.1859\tvalid_1's rmse: 181.048\n",
      "[2500]\ttraining's rmse: 57.1368\tvalid_1's rmse: 178.222\n",
      "[3000]\ttraining's rmse: 50.9818\tvalid_1's rmse: 176.256\n",
      "[3500]\ttraining's rmse: 46.0762\tvalid_1's rmse: 174.977\n",
      "[4000]\ttraining's rmse: 41.912\tvalid_1's rmse: 174.297\n",
      "[4500]\ttraining's rmse: 38.5005\tvalid_1's rmse: 173.959\n",
      "[5000]\ttraining's rmse: 35.4746\tvalid_1's rmse: 173.385\n",
      "[5500]\ttraining's rmse: 32.9435\tvalid_1's rmse: 173.028\n",
      "[6000]\ttraining's rmse: 30.7785\tvalid_1's rmse: 172.797\n",
      "[6500]\ttraining's rmse: 28.7411\tvalid_1's rmse: 172.691\n",
      "Early stopping, best iteration is:\n",
      "[6728]\ttraining's rmse: 27.8953\tvalid_1's rmse: 172.493\n",
      "CV Score: 0.99857 \n"
     ]
    }
   ],
   "source": [
    "folds = KFold(n_splits=5, shuffle=True, random_state=2333)\n",
    "\n",
    "oof_lgb = np.zeros(len(train))\n",
    "predictions_lgb = np.zeros(len(test))\n",
    "feature_importance_df = pd.DataFrame()\n",
    "\n",
    "for fold_, (trn_idx, val_idx) in enumerate(folds.split(train.values, target.values)):\n",
    "    print(\"fold {}\".format(fold_))\n",
    "    trn_data = lgb.Dataset(train.iloc[trn_idx], label=target.iloc[trn_idx])# categorical_feature=categorical_feats)\n",
    "    val_data = lgb.Dataset(train.iloc[val_idx], label=target.iloc[val_idx])#, categorical_feature=categorical_feats)\n",
    "\n",
    "    num_round = 10000\n",
    "    clf = lgb.train(params, trn_data, num_round, valid_sets = [trn_data, val_data], verbose_eval=500, early_stopping_rounds = 200)\n",
    "    \n",
    "    oof_lgb[val_idx] = clf.predict(train.iloc[val_idx], num_iteration=clf.best_iteration)\n",
    "    \n",
    "    fold_importance_df = pd.DataFrame()\n",
    "    fold_importance_df[\"feature\"] = features\n",
    "    fold_importance_df[\"importance\"] = clf.feature_importance()\n",
    "    fold_importance_df[\"fold\"] = fold_ + 1\n",
    "    feature_importance_df = pd.concat([feature_importance_df, fold_importance_df], axis=0)\n",
    "    \n",
    "    predictions_lgb += clf.predict(test, num_iteration=clf.best_iteration) / folds.n_splits\n",
    "    \n",
    "print(\"CV Score: {:<8.5f}\".format(r2_score(target, oof_lgb)))"
   ]
  },
  {
   "cell_type": "code",
   "execution_count": null,
   "metadata": {},
   "outputs": [],
   "source": [
    "cols = (feature_importance_df[[\"feature\", \"importance\"]]\n",
    "        .groupby(\"feature\")\n",
    "        .mean()\n",
    "        .sort_values(by=\"importance\", ascending=False)[:1000].index)\n",
    "\n",
    "best_features = feature_importance_df.loc[feature_importance_df.feature.isin(cols)]\n",
    "\n",
    "plt.figure(figsize=(14,40))\n",
    "sns.barplot(x=\"importance\",\n",
    "            y=\"feature\",\n",
    "            data=best_features.sort_values(by=\"importance\",\n",
    "                                           ascending=False))\n",
    "plt.title('LightGBM Features (avg over folds)')\n",
    "plt.tight_layout()"
   ]
  },
  {
   "cell_type": "code",
   "execution_count": null,
   "metadata": {},
   "outputs": [],
   "source": [
    "from sklearn.metrics import r2_score\n",
    "def online_score(pred):\n",
    "    print(\"预测结果最大值：{},预测结果最小值：{}\".format(pred.max(),pred.min()))\n",
    "    # a榜测分\n",
    "    conmbine1 = pd.read_csv(\"G:/compete/ai/city_rent_precent/data_set/sub_a_913.csv\",engine = \"python\")#,header=None)\n",
    "    score1 = r2_score(pred, conmbine1)\n",
    "    print(score1)\n",
    "    return score1"
   ]
  },
  {
   "cell_type": "code",
   "execution_count": null,
   "metadata": {},
   "outputs": [],
   "source": [
    "\n",
    "online_score(predictions_lgb)"
   ]
  },
  {
   "cell_type": "code",
   "execution_count": null,
   "metadata": {},
   "outputs": [],
   "source": []
  }
 ],
 "metadata": {
  "kernelspec": {
   "display_name": "baseline ",
   "language": "python",
   "name": "baseline"
  },
  "language_info": {
   "codemirror_mode": {
    "name": "ipython",
    "version": 3
   },
   "file_extension": ".py",
   "mimetype": "text/x-python",
   "name": "python",
   "nbconvert_exporter": "python",
   "pygments_lexer": "ipython3",
   "version": "3.6.8"
  }
 },
 "nbformat": 4,
 "nbformat_minor": 2
}
